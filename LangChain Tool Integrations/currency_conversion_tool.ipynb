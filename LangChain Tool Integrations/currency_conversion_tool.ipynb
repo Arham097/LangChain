{
 "cells": [
  {
   "cell_type": "markdown",
   "id": "f6ee94cd",
   "metadata": {},
   "source": [
    "## Currency Conversion Tool "
   ]
  },
  {
   "cell_type": "code",
   "execution_count": 48,
   "id": "df91a015",
   "metadata": {},
   "outputs": [],
   "source": [
    "from langchain_community.tools import tool\n",
    "from langchain_core.tools import InjectedToolArg\n",
    "from langchain_core.messages import HumanMessage\n",
    "from langchain_groq import ChatGroq\n",
    "from dotenv import load_dotenv\n",
    "import os\n",
    "import requests\n",
    "from typing import Annotated\n",
    "import json\n",
    "load_dotenv()\n",
    "\n",
    "exchange_rate_api = os.getenv('EXCHANGE_RATE_API')"
   ]
  },
  {
   "cell_type": "code",
   "execution_count": 49,
   "id": "53d4ea1f",
   "metadata": {},
   "outputs": [],
   "source": [
    "# tool creation\n",
    "\n",
    "@tool \n",
    "def get_conversion_factor(base_currency: str, target_currency: str) -> float:\n",
    "    \"\"\"This function fetches the conversion factor between base_currency and target_currency\"\"\"\n",
    "    url = f'https://v6.exchangerate-api.com/v6/{exchange_rate_api}/pair/{base_currency}/{target_currency}'\n",
    "    response = requests.get(url)\n",
    "    return response.json()\n",
    "\n",
    "@tool\n",
    "def convert(base_currency_value: int, conversion_rate: Annotated[float, InjectedToolArg] ) -> float:\n",
    "    \"\"\"given a currency conversion rate this function calculates the target currency value from a given base currency value\"\"\"\n",
    "    \n",
    "    return base_currency_value * conversion_rate\n"
   ]
  },
  {
   "cell_type": "code",
   "execution_count": 50,
   "id": "664bfae6",
   "metadata": {},
   "outputs": [],
   "source": [
    "# tool biniding\n",
    "# Creating a model\n",
    "llm = ChatGroq(model='meta-llama/llama-4-maverick-17b-128e-instruct')\n",
    "\n",
    "llm_with_tools = llm.bind_tools([get_conversion_factor, convert])"
   ]
  },
  {
   "cell_type": "code",
   "execution_count": 51,
   "id": "c920bd08",
   "metadata": {},
   "outputs": [
    {
     "data": {
      "text/plain": [
       "[HumanMessage(content='Can you give me conversion factor of USD to PKR and also convert 50 USD to PKR', additional_kwargs={}, response_metadata={})]"
      ]
     },
     "execution_count": 51,
     "metadata": {},
     "output_type": "execute_result"
    }
   ],
   "source": [
    "messages = [HumanMessage(\"Can you give me conversion factor of USD to PKR and also convert 50 USD to PKR\")]\n",
    "messages"
   ]
  },
  {
   "cell_type": "code",
   "execution_count": 52,
   "id": "20191a3c",
   "metadata": {},
   "outputs": [
    {
     "data": {
      "text/plain": [
       "[{'name': 'get_conversion_factor',\n",
       "  'args': {'base_currency': 'USD', 'target_currency': 'PKR'},\n",
       "  'id': 'e0yqnmj30',\n",
       "  'type': 'tool_call'},\n",
       " {'name': 'convert',\n",
       "  'args': {'base_currency_value': 50},\n",
       "  'id': 'rxs36wm45',\n",
       "  'type': 'tool_call'}]"
      ]
     },
     "execution_count": 52,
     "metadata": {},
     "output_type": "execute_result"
    }
   ],
   "source": [
    "ai_message = llm_with_tools.invoke(messages)\n",
    "messages.append(ai_message)\n",
    "ai_message.tool_calls"
   ]
  },
  {
   "cell_type": "code",
   "execution_count": 53,
   "id": "4bd10567",
   "metadata": {},
   "outputs": [],
   "source": [
    "\n",
    "for tool_call in ai_message.tool_calls:\n",
    "  # execute the 1st tool and get the value of conversion rate\n",
    "  if tool_call['name'] == 'get_conversion_factor':\n",
    "    tool_message1 = get_conversion_factor.invoke(tool_call)\n",
    "    # fetch this conversion rate\n",
    "    conversion_rate = json.loads(tool_message1.content)['conversion_rate']\n",
    "    # append this tool message to messages list\n",
    "    messages.append(tool_message1)\n",
    "  # execute the 2nd tool using the conversion rate from tool 1\n",
    "  if tool_call['name'] == 'convert':\n",
    "    # fetch the current arg\n",
    "    tool_call['args']['conversion_rate'] = conversion_rate\n",
    "    tool_message2 = convert.invoke(tool_call)\n",
    "    messages.append(tool_message2)\n",
    "\n"
   ]
  },
  {
   "cell_type": "code",
   "execution_count": 54,
   "id": "89733679",
   "metadata": {},
   "outputs": [
    {
     "data": {
      "text/plain": [
       "[HumanMessage(content='Can you give me conversion factor of USD to PKR and also convert 50 USD to PKR', additional_kwargs={}, response_metadata={}),\n",
       " AIMessage(content='', additional_kwargs={'tool_calls': [{'id': 'e0yqnmj30', 'function': {'arguments': '{\"base_currency\":\"USD\",\"target_currency\":\"PKR\"}', 'name': 'get_conversion_factor'}, 'type': 'function'}, {'id': 'rxs36wm45', 'function': {'arguments': '{\"base_currency_value\":50}', 'name': 'convert'}, 'type': 'function'}]}, response_metadata={'token_usage': {'completion_tokens': 54, 'prompt_tokens': 754, 'total_tokens': 808, 'completion_time': 0.092235206, 'prompt_time': 0.021082919, 'queue_time': 0.035089611, 'total_time': 0.113318125}, 'model_name': 'meta-llama/llama-4-maverick-17b-128e-instruct', 'system_fingerprint': 'fp_c527aa4474', 'service_tier': 'on_demand', 'finish_reason': 'tool_calls', 'logprobs': None}, id='run--2c013dd0-01f1-4526-aef9-19990d984225-0', tool_calls=[{'name': 'get_conversion_factor', 'args': {'base_currency': 'USD', 'target_currency': 'PKR'}, 'id': 'e0yqnmj30', 'type': 'tool_call'}, {'name': 'convert', 'args': {'base_currency_value': 50, 'conversion_rate': 283.608}, 'id': 'rxs36wm45', 'type': 'tool_call'}], usage_metadata={'input_tokens': 754, 'output_tokens': 54, 'total_tokens': 808}),\n",
       " ToolMessage(content='{\"result\": \"success\", \"documentation\": \"https://www.exchangerate-api.com/docs\", \"terms_of_use\": \"https://www.exchangerate-api.com/terms\", \"time_last_update_unix\": 1755907201, \"time_last_update_utc\": \"Sat, 23 Aug 2025 00:00:01 +0000\", \"time_next_update_unix\": 1755993601, \"time_next_update_utc\": \"Sun, 24 Aug 2025 00:00:01 +0000\", \"base_code\": \"USD\", \"target_code\": \"PKR\", \"conversion_rate\": 283.608}', name='get_conversion_factor', tool_call_id='e0yqnmj30'),\n",
       " ToolMessage(content='14180.4', name='convert', tool_call_id='rxs36wm45')]"
      ]
     },
     "execution_count": 54,
     "metadata": {},
     "output_type": "execute_result"
    }
   ],
   "source": [
    "messages"
   ]
  },
  {
   "cell_type": "code",
   "execution_count": 55,
   "id": "3ff4728a",
   "metadata": {},
   "outputs": [
    {
     "data": {
      "text/plain": [
       "'The conversion factor of USD to PKR is 283.608. \\n50 USD is equivalent to 14180.4 PKR.'"
      ]
     },
     "execution_count": 55,
     "metadata": {},
     "output_type": "execute_result"
    }
   ],
   "source": [
    "result = llm_with_tools.invoke(messages)\n",
    "result.content"
   ]
  }
 ],
 "metadata": {
  "kernelspec": {
   "display_name": "Python 3",
   "language": "python",
   "name": "python3"
  },
  "language_info": {
   "codemirror_mode": {
    "name": "ipython",
    "version": 3
   },
   "file_extension": ".py",
   "mimetype": "text/x-python",
   "name": "python",
   "nbconvert_exporter": "python",
   "pygments_lexer": "ipython3",
   "version": "3.13.7"
  }
 },
 "nbformat": 4,
 "nbformat_minor": 5
}
