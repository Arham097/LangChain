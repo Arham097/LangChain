{
 "cells": [
  {
   "cell_type": "markdown",
   "id": "b292ca21",
   "metadata": {},
   "source": [
    "## Tools Integrations"
   ]
  },
  {
   "cell_type": "code",
   "execution_count": 5,
   "id": "48ac2047",
   "metadata": {},
   "outputs": [
    {
     "data": {
      "text/plain": [
       "True"
      ]
     },
     "execution_count": 5,
     "metadata": {},
     "output_type": "execute_result"
    }
   ],
   "source": [
    "from langchain_groq import ChatGroq\n",
    "from langchain_community.tools import tool\n",
    "from langchain_core.messages import HumanMessage\n",
    "import requests\n",
    "from dotenv import load_dotenv\n",
    "load_dotenv()"
   ]
  },
  {
   "cell_type": "markdown",
   "id": "e84fd259",
   "metadata": {},
   "source": [
    "### Tool Creation"
   ]
  },
  {
   "cell_type": "code",
   "execution_count": 7,
   "id": "41e6ee36",
   "metadata": {},
   "outputs": [],
   "source": [
    "@tool\n",
    "def multiply(a:int , b:int ) -> int:\n",
    "    \"\"\"Given two number a and b and this tool gives their product\"\"\"\n",
    "    return a*b"
   ]
  },
  {
   "cell_type": "markdown",
   "id": "ded9c8d3",
   "metadata": {},
   "source": [
    "### Tool Binding"
   ]
  },
  {
   "cell_type": "code",
   "execution_count": 10,
   "id": "2893cd9a",
   "metadata": {},
   "outputs": [],
   "source": [
    "# Creating a model\n",
    "llm = ChatGroq(model='meta-llama/llama-4-maverick-17b-128e-instruct')"
   ]
  },
  {
   "cell_type": "code",
   "execution_count": 11,
   "id": "45884758",
   "metadata": {},
   "outputs": [],
   "source": [
    "# binding model with tools\n",
    "llm_with_tools = llm.bind_tools([multiply])"
   ]
  },
  {
   "cell_type": "code",
   "execution_count": 36,
   "id": "0b2d8011",
   "metadata": {},
   "outputs": [],
   "source": [
    "query = HumanMessage(\"Can you multiply 3 with 100\")"
   ]
  },
  {
   "cell_type": "code",
   "execution_count": 37,
   "id": "69155310",
   "metadata": {},
   "outputs": [],
   "source": [
    "messages = [query]"
   ]
  },
  {
   "cell_type": "code",
   "execution_count": 38,
   "id": "6fb455a9",
   "metadata": {},
   "outputs": [
    {
     "data": {
      "text/plain": [
       "[HumanMessage(content='Can you multiply 3 with 100', additional_kwargs={}, response_metadata={}),\n",
       " AIMessage(content='', additional_kwargs={'tool_calls': [{'id': 'p9w5wkrh3', 'function': {'arguments': '{\"a\":3,\"b\":100}', 'name': 'multiply'}, 'type': 'function'}]}, response_metadata={'token_usage': {'completion_tokens': 28, 'prompt_tokens': 687, 'total_tokens': 715, 'completion_time': 0.03783492, 'prompt_time': 0.018554768, 'queue_time': 0.056013912, 'total_time': 0.056389688}, 'model_name': 'meta-llama/llama-4-maverick-17b-128e-instruct', 'system_fingerprint': 'fp_c527aa4474', 'service_tier': 'on_demand', 'finish_reason': 'tool_calls', 'logprobs': None}, id='run--34140101-fb29-4fe4-b7ed-99fbf8e9cbe1-0', tool_calls=[{'name': 'multiply', 'args': {'a': 3, 'b': 100}, 'id': 'p9w5wkrh3', 'type': 'tool_call'}], usage_metadata={'input_tokens': 687, 'output_tokens': 28, 'total_tokens': 715})]"
      ]
     },
     "execution_count": 38,
     "metadata": {},
     "output_type": "execute_result"
    }
   ],
   "source": [
    "result = llm_with_tools.invoke(messages)\n",
    "messages.append(result)\n",
    "messages"
   ]
  },
  {
   "cell_type": "markdown",
   "id": "96be480c",
   "metadata": {},
   "source": [
    "### Tool Execution"
   ]
  },
  {
   "cell_type": "code",
   "execution_count": 39,
   "id": "1fe6db04",
   "metadata": {},
   "outputs": [
    {
     "data": {
      "text/plain": [
       "[HumanMessage(content='Can you multiply 3 with 100', additional_kwargs={}, response_metadata={}),\n",
       " AIMessage(content='', additional_kwargs={'tool_calls': [{'id': 'p9w5wkrh3', 'function': {'arguments': '{\"a\":3,\"b\":100}', 'name': 'multiply'}, 'type': 'function'}]}, response_metadata={'token_usage': {'completion_tokens': 28, 'prompt_tokens': 687, 'total_tokens': 715, 'completion_time': 0.03783492, 'prompt_time': 0.018554768, 'queue_time': 0.056013912, 'total_time': 0.056389688}, 'model_name': 'meta-llama/llama-4-maverick-17b-128e-instruct', 'system_fingerprint': 'fp_c527aa4474', 'service_tier': 'on_demand', 'finish_reason': 'tool_calls', 'logprobs': None}, id='run--34140101-fb29-4fe4-b7ed-99fbf8e9cbe1-0', tool_calls=[{'name': 'multiply', 'args': {'a': 3, 'b': 100}, 'id': 'p9w5wkrh3', 'type': 'tool_call'}], usage_metadata={'input_tokens': 687, 'output_tokens': 28, 'total_tokens': 715}),\n",
       " ToolMessage(content='300', name='multiply', tool_call_id='p9w5wkrh3')]"
      ]
     },
     "execution_count": 39,
     "metadata": {},
     "output_type": "execute_result"
    }
   ],
   "source": [
    "tool_result = multiply.invoke(result.tool_calls[0])\n",
    "messages.append(tool_result)\n",
    "messages"
   ]
  },
  {
   "cell_type": "code",
   "execution_count": 40,
   "id": "c267229a",
   "metadata": {},
   "outputs": [
    {
     "name": "stdout",
     "output_type": "stream",
     "text": [
      "The product of 3 and 100 is 300.\n"
     ]
    }
   ],
   "source": [
    "final_result = llm_with_tools.invoke(messages)\n",
    "print(final_result.content)"
   ]
  }
 ],
 "metadata": {
  "kernelspec": {
   "display_name": "Python 3",
   "language": "python",
   "name": "python3"
  },
  "language_info": {
   "codemirror_mode": {
    "name": "ipython",
    "version": 3
   },
   "file_extension": ".py",
   "mimetype": "text/x-python",
   "name": "python",
   "nbconvert_exporter": "python",
   "pygments_lexer": "ipython3",
   "version": "3.13.7"
  }
 },
 "nbformat": 4,
 "nbformat_minor": 5
}
