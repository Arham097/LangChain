{
 "cells": [
  {
   "cell_type": "markdown",
   "id": "b292ca21",
   "metadata": {},
   "source": [
    "## Tools Integrations"
   ]
  },
  {
   "cell_type": "code",
   "execution_count": 1,
   "id": "48ac2047",
   "metadata": {},
   "outputs": [],
   "source": [
    "from langchain_groq import ChatGroq\n",
    "from langchain_community.tools import tool\n",
    "from langchain_core.messages import HumanMessage\n",
    "import requests"
   ]
  },
  {
   "cell_type": "markdown",
   "id": "e84fd259",
   "metadata": {},
   "source": [
    "### Tool Creation"
   ]
  },
  {
   "cell_type": "code",
   "execution_count": null,
   "id": "41e6ee36",
   "metadata": {},
   "outputs": [],
   "source": [
    "@tool\n",
    "def multiply(a:int , b:int ) -> int:\n",
    "    \"\"\"Given two number a and b and this tool gives their product\"\"\"\n",
    "    return a*b"
   ]
  },
  {
   "cell_type": "markdown",
   "id": "ded9c8d3",
   "metadata": {},
   "source": [
    "### Tool Binding"
   ]
  },
  {
   "cell_type": "code",
   "execution_count": null,
   "id": "2893cd9a",
   "metadata": {},
   "outputs": [],
   "source": [
    "    model = ChatGroq(model='meta-llama/llama-4-maverick-17b-128e-instruct')"
   ]
  }
 ],
 "metadata": {
  "kernelspec": {
   "display_name": "Python 3",
   "language": "python",
   "name": "python3"
  },
  "language_info": {
   "codemirror_mode": {
    "name": "ipython",
    "version": 3
   },
   "file_extension": ".py",
   "mimetype": "text/x-python",
   "name": "python",
   "nbconvert_exporter": "python",
   "pygments_lexer": "ipython3",
   "version": "3.13.7"
  }
 },
 "nbformat": 4,
 "nbformat_minor": 5
}
