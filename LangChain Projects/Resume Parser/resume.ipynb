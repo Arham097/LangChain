{
 "cells": [
  {
   "cell_type": "code",
   "execution_count": 60,
   "id": "0d321d62",
   "metadata": {},
   "outputs": [
    {
     "data": {
      "text/plain": [
       "True"
      ]
     },
     "execution_count": 60,
     "metadata": {},
     "output_type": "execute_result"
    }
   ],
   "source": [
    "from langchain_groq import ChatGroq\n",
    "from langchain_community.document_loaders import PyPDFLoader\n",
    "from langchain_core.prompts import PromptTemplate\n",
    "from dotenv import load_dotenv\n",
    "load_dotenv()"
   ]
  },
  {
   "cell_type": "code",
   "execution_count": 61,
   "id": "c9f9c1b7",
   "metadata": {},
   "outputs": [],
   "source": [
    "model = ChatGroq(\n",
    "    model='meta-llama/llama-4-maverick-17b-128e-instruct',\n",
    "    temperature=0.1,\n",
    "    max_tokens=4096\n",
    ")"
   ]
  },
  {
   "cell_type": "code",
   "execution_count": 62,
   "id": "542d99a1",
   "metadata": {},
   "outputs": [],
   "source": [
    "loader = PyPDFLoader('./AbdullahSiddiqui.pdf')\n",
    "result = loader.load()"
   ]
  },
  {
   "cell_type": "code",
   "execution_count": null,
   "id": "848ce9f2",
   "metadata": {},
   "outputs": [],
   "source": [
    "from pydantic import BaseModel \n",
    "from typing import Optional, List\n",
    "\n",
    "\n",
    "class ContactInfo(BaseModel):\n",
    "    email: Optional[str]\n",
    "    phone: Optional[str]\n",
    "    address: Optional[str]\n",
    "    linkedin: Optional[str]\n",
    "    github: Optional[str]\n",
    "    website: Optional[str]\n",
    "\n",
    "class Skills(BaseModel):\n",
    "    technical_skills: Optional[List[str]]\n",
    "    soft_skills: Optional[List[str]]\n",
    "\n",
    "class Education(BaseModel):\n",
    "    institution: str\n",
    "    degree: Optional[str]\n",
    "    field_of_study: Optional[str]\n",
    "    start_date: Optional[str]\n",
    "    end_date: Optional[str]\n",
    "    grade: Optional[str]\n",
    "\n",
    "class Experience(BaseModel):\n",
    "    job_title: str\n",
    "    company: str\n",
    "    start_date: Optional[str]\n",
    "    end_date: Optional[str]\n",
    "    location: Optional[str]\n",
    "    description: Optional[str]\n",
    "\n",
    "class Project(BaseModel):\n",
    "    name: str\n",
    "    description: Optional[str]\n",
    "    technologies: Optional[List[str]]\n",
    "    link: Optional[str]\n",
    "\n",
    "class Certification(BaseModel):\n",
    "    name: str\n",
    "    issuing_organization: Optional[str]\n",
    "    issue_date: Optional[str]\n",
    "    expiration_date: Optional[str]\n",
    "    credential_id: Optional[str]\n",
    "    credential_url: Optional[str]\n",
    "\n",
    "class Resume(BaseModel):\n",
    "    name: str\n",
    "    contact: Optional[ContactInfo]\n",
    "    summary: Optional[str]\n",
    "    skills: Optional[Skills]\n",
    "    education: Optional[List[Education]]\n",
    "    experience: Optional[List[Experience]]\n",
    "    projects: Optional[List[Project]]\n",
    "    certifications: Optional[List[Certification]]\n",
    "    languages: Optional[List[str]]\n",
    "    interests: Optional[List[str]]"
   ]
  },
  {
   "cell_type": "code",
   "execution_count": 64,
   "id": "db5292d7",
   "metadata": {},
   "outputs": [],
   "source": [
    "from langchain_core.output_parsers import PydanticOutputParser\n",
    "parser = PydanticOutputParser(pydantic_object=Resume)"
   ]
  },
  {
   "cell_type": "code",
   "execution_count": 65,
   "id": "90838023",
   "metadata": {},
   "outputs": [],
   "source": [
    "prompt = PromptTemplate(\n",
    "    template = \"\"\"You are a resume parser. Extract information from the resume text and return ONLY a valid JSON object. Do not include any explanations, code, or additional text.\n",
    "\n",
    "Resume text:\n",
    "{resume_text}\n",
    "\n",
    "Extract the information and format it as JSON according to this schema:\n",
    "{format_instructions}\n",
    "\n",
    "Return only the JSON object, nothing else:\"\"\",\n",
    "    input_variables=['resume_text'],\n",
    "    partial_variables={\"format_instructions\": parser.get_format_instructions()}\n",
    ")"
   ]
  },
  {
   "cell_type": "code",
   "execution_count": 66,
   "id": "7da0b711",
   "metadata": {},
   "outputs": [
    {
     "name": "stdout",
     "output_type": "stream",
     "text": [
      "name='M. ABDULLAH SIDDIQUI' contact=ContactInfo(email='abdullahsidzz333@gmail.com', phone='+923160116389', address='Karachi, Pakistan', linkedin='linkedin.com/in/muhammad-abdullah-siddiqui-587877280/', github='https://github.com/Abdullah786Siddiqui', website=None) summary='I am a motivated Full Stack Web Developer with expertise in JavaScript, React.js, PHP, Laravel, MySQL, Bootstrap, and GSAP. I specialize in creating responsive, user-friendly web applications with efficient backend systems and smooth UI animations. With strong problem-solving skills and a passion for learning new technologies,' skills=Skills(technical_skills=['JavaScript', 'PHP', 'C', 'C++', 'HTML5', 'CSS3', 'Bootstrap', 'Tailwind', 'Laravel', 'React', 'Redux', 'GSAP', 'MySQL', 'Git', 'Github'], soft_skills=['Explorer', 'Working in Collaborative Environment', 'Lifelong learner']) education=[Education(institution='ILMA University Karachi, PK', degree='Bachelor of Science (BS)', field_of_study='Software Engineering', start_date='2024', end_date='2028', grade=None)] experience=[Experience(job_title='Internship | PHP Laravel Developer', company='ZAppps Consulting', start_date=None, end_date=None, location=None, description='Successfully completed a PHP Laravel development internship, where I contributed to building and enhancing web applications, integrating RESTful APIs, and optimizing MySQL databases. Collaborated with senior developers in applying MVC architecture, version control with Git, and debugging techniques to ensure robust and scalable solutions.')] projects=[Project(name='Ecoverse', description='Designed and developed a complete e-commerce platform as a solo developer using PHP and MySQL, featuring secure Google OAuth login, Stripe-based payment processing, real-time stock level tracking, and personalized user profile management. Focused on building a responsive, user-friendly interface and robust backend to streamline the full shopping and order lifecycle.', technologies=['PHP', 'MYSQL', 'Bootstrap', 'GoogleOauth2', 'Stripe-based payment'], link='GitHub'), Project(name='Soul Verse', description=\"Developed a mood-based Quranic Ayah recommendation app using React that suggests relevant verses from the Quran based on the user's emotional state. Implemented an interactive UI and dynamic recommendations to enhance user engagement.\", technologies=['React', 'Redux Persists', 'GSAP', 'Bootstrap'], link='GitHub'), Project(name='Hair-Care', description='Built a modern, responsive e-commerce website using React, Redux, and React-Persist for state management and cart persistence. Implemented product listing, filtering, shopping cart, and checkout UI flows. Designed for seamless user experience with real-time updates and consistent state across page reloads.', technologies=['React', 'Redux Persists', 'GSAP', 'Bootstrap'], link='GitHub')] certifications=None languages=None interests=None\n"
     ]
    }
   ],
   "source": [
    "chain = prompt | model | parser\n",
    "result = chain.invoke({'resume_text':result[0].page_content})\n",
    "print(result)"
   ]
  },
  {
   "cell_type": "code",
   "execution_count": 67,
   "id": "27b9271b",
   "metadata": {},
   "outputs": [
    {
     "name": "stdout",
     "output_type": "stream",
     "text": [
      "\n",
      "✅ Resume data saved to 'parsed_resume.json'\n"
     ]
    }
   ],
   "source": [
    "# Display the parsed resume in a more readable format\n",
    "import json\n",
    "\n",
    "# Save to JSON file\n",
    "with open(f\"{result.name or \"user\"}_resume.json\", 'w', encoding='utf-8') as f:\n",
    "    json.dump(result.model_dump(), f, indent=2, ensure_ascii=False)\n",
    "    \n",
    "print(\"\\n✅ Resume data saved to 'parsed_resume.json'\")"
   ]
  }
 ],
 "metadata": {
  "kernelspec": {
   "display_name": "Python 3",
   "language": "python",
   "name": "python3"
  },
  "language_info": {
   "codemirror_mode": {
    "name": "ipython",
    "version": 3
   },
   "file_extension": ".py",
   "mimetype": "text/x-python",
   "name": "python",
   "nbconvert_exporter": "python",
   "pygments_lexer": "ipython3",
   "version": "3.13.7"
  }
 },
 "nbformat": 4,
 "nbformat_minor": 5
}
