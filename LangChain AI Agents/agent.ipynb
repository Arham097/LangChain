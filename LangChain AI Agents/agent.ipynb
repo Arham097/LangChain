{
 "cells": [
  {
   "cell_type": "code",
   "execution_count": 9,
   "id": "c0216f72",
   "metadata": {},
   "outputs": [],
   "source": [
    "from langchain_groq import ChatGroq\n",
    "from langchain_community.tools import tool\n",
    "from dotenv import load_dotenv\n",
    "import os\n",
    "load_dotenv()\n",
    "import requests\n",
    "weather_api = os.getenv('WEATHER_STACK_API')\n"
   ]
  },
  {
   "cell_type": "code",
   "execution_count": 17,
   "id": "cd8ef330",
   "metadata": {},
   "outputs": [],
   "source": [
    "from langchain_community.tools import DuckDuckGoSearchRun\n",
    "\n",
    "# Step 1:  Create tools\n",
    "\n",
    "# Tool 1\n",
    "search_tool  = DuckDuckGoSearchRun()\n",
    "\n",
    "# Tool 2\n",
    "@tool\n",
    "def get_weather_data (city:str) -> str:\n",
    "    \"\"\"This function fetches current weather data for a given city\"\"\"\n",
    "    url =  f'https://api.weatherstack.com/current?access_key={weather_api}&query={city}'\n",
    "    response = requests.get(url)\n",
    "    return response.json()\n"
   ]
  },
  {
   "cell_type": "code",
   "execution_count": 18,
   "id": "6f8d4ba7",
   "metadata": {},
   "outputs": [],
   "source": [
    "# Create Model\n",
    "llm = ChatGroq(model='meta-llama/llama-4-maverick-17b-128e-instruct')\n"
   ]
  },
  {
   "cell_type": "code",
   "execution_count": 19,
   "id": "18aaf649",
   "metadata": {},
   "outputs": [],
   "source": [
    "from langchain.agents import create_react_agent, AgentExecutor\n",
    "from langchain import hub"
   ]
  },
  {
   "cell_type": "code",
   "execution_count": 20,
   "id": "be9e57c1",
   "metadata": {},
   "outputs": [
    {
     "name": "stderr",
     "output_type": "stream",
     "text": [
      "C:\\Users\\Syed Arham Hasan\\AppData\\Local\\Packages\\PythonSoftwareFoundation.Python.3.13_qbz5n2kfra8p0\\LocalCache\\local-packages\\Python313\\site-packages\\langsmith\\client.py:272: LangSmithMissingAPIKeyWarning: API key must be provided when using hosted LangSmith API\n",
      "  warnings.warn(\n"
     ]
    }
   ],
   "source": [
    "# Step 2: Pull the react prompt from hub\n",
    "prompt = hub.pull('hwchase17/react')"
   ]
  },
  {
   "cell_type": "code",
   "execution_count": 21,
   "id": "1159f968",
   "metadata": {},
   "outputs": [],
   "source": [
    "# Step 3: Create the ReAct agent manually with the pulled prompt\n",
    "agent = create_react_agent(\n",
    "    llm=llm,\n",
    "    tools=[search_tool, get_weather_data],\n",
    "    prompt=prompt\n",
    ")"
   ]
  },
  {
   "cell_type": "code",
   "execution_count": 22,
   "id": "51c222b8",
   "metadata": {},
   "outputs": [],
   "source": [
    "# Step 4: Wrap it with AgentExecutor\n",
    "agent_executer = AgentExecutor(\n",
    "    agent = agent,\n",
    "    tools=[search_tool, get_weather_data],\n",
    "    verbose= True\n",
    ")"
   ]
  },
  {
   "cell_type": "code",
   "execution_count": 23,
   "id": "6282fb9d",
   "metadata": {},
   "outputs": [
    {
     "name": "stdout",
     "output_type": "stream",
     "text": [
      "\n",
      "\n",
      "\u001b[1m> Entering new AgentExecutor chain...\u001b[0m\n",
      "\u001b[32;1m\u001b[1;3m\n",
      "\n",
      "Thought: First, I need I need to find the capital of Pakistan.. I can use to search for this information.\n",
      "Action: duckduck_go_search \n",
      "Action Input: capital of Pakistan\u001b[0mduckduck_go_search is not a valid tool, try one of [duckduckgo_search, get_weather_data].\u001b[32;1m\u001b[1;3m continuuing...\n",
      "Thought: I Thought: I need to use the correct tool, which is duckduckgo_search. I will search for the capital of Pakistan.\n",
      "Action: duckduckgo_search\n",
      "Action Input: capital of Pakistan\u001b[0m"
     ]
    },
    {
     "name": "stderr",
     "output_type": "stream",
     "text": [
      "C:\\Users\\Syed Arham Hasan\\AppData\\Local\\Packages\\PythonSoftwareFoundation.Python.3.13_qbz5n2kfra8p0\\LocalCache\\local-packages\\Python313\\site-packages\\langchain_community\\utilities\\duckduckgo_search.py:63: RuntimeWarning: This package (`duckduckgo_search`) has been renamed to `ddgs`! Use `pip install ddgs` instead.\n",
      "  with DDGS() as ddgs:\n"
     ]
    },
    {
     "name": "stdout",
     "output_type": "stream",
     "text": [
      "\u001b[36;1m\u001b[1;3mMay 3, 2024 · Quetta is the capital of Balochistan, the largest province of Pakistan. *The name Balochistan (Baluchistan) can also more … Apr 30, 2024 · Urdu, as National and Official working language in Pakistan. Many Islamabad inhabitants are from Rawalpindi and Pashtun … On this page you may find the Capital of Pakistan CodyCross Answers and Solutions. This is a popular game developed by Fanatee Inc. Mar 26, 2017 · Find out Capital of Pakistan Answers. CodyCross is a famous newly released game which is developed by Fanatee. It has … Pakistan 's military dictator Ayub Khan decided to shift the capital city from Karachi to Islamabad in late 1950 as Karachi had become …\u001b[0m\u001b[32;1m\u001b[1;3m\n",
      "\n",
      "Thought: The search results did not directly state the capital of of Pakistan. However, Ion Mar26,2017, it is mentioned that the capital is Islamabad. \n",
      "I will now proceed to check the weather in Islamabad.\n",
      "Action: get_weather_data\n",
      "Action Input: Islamabad\u001b[0m\u001b[33;1m\u001b[1;3m{'request': {'type': 'City', 'query': 'Islamabad, Pakistan', 'language': 'en', 'unit': 'm'}, 'location': {'name': 'Islamabad', 'country': 'Pakistan', 'region': 'Islamabad', 'lat': '33.700', 'lon': '73.167', 'timezone_id': 'Asia/Karachi', 'localtime': '2025-08-25 01:01', 'localtime_epoch': 1756083660, 'utc_offset': '5.0'}, 'current': {'observation_time': '08:01 PM', 'temperature': 23, 'weather_code': 116, 'weather_icons': ['https://cdn.worldweatheronline.com/images/wsymbols01_png_64/wsymbol_0004_black_low_cloud.png'], 'weather_descriptions': ['Partly Cloudy '], 'astro': {'sunrise': '05:37 AM', 'sunset': '06:42 PM', 'moonrise': '07:25 AM', 'moonset': '07:47 PM', 'moon_phase': 'Waxing Crescent', 'moon_illumination': 3}, 'air_quality': {'co': '3091.35', 'no2': '200.355', 'o3': '7', 'so2': '26.455', 'pm2_5': '112.48', 'pm10': '114.515', 'us-epa-index': '4', 'gb-defra-index': '4'}, 'wind_speed': 4, 'wind_degree': 317, 'wind_dir': 'NW', 'pressure': 1005, 'precip': 0, 'humidity': 88, 'cloudcover': 38, 'feelslike': 25, 'uv_index': 0, 'visibility': 10, 'is_day': 'no'}}\u001b[0m\u001b[32;1m\u001b[1;3m\n",
      "\n",
      "Thought: I have the capital of Pakistan, which is Islamabad. and I have retrieved the current weather data for Islamabad. \n",
      "The current weather condition in Islamabad is is partly cloudy with a temperature of 23.\n",
      "Thought: I I now know the the final answer\n",
      "Final Answer: the capital of Pakistan the weather condition is partly cloudy with a temperature  of 23./C.\u001b[0m\n",
      "\n",
      "\u001b[1m> Finished chain.\u001b[0m\n",
      "{'input': \"Find the capital of Pakistan, then find it's current weather condition\", 'output': 'the capital of Pakistan the weather condition is partly cloudy with a temperature  of 23./C.'}\n"
     ]
    }
   ],
   "source": [
    "# Step 5: Invoke\n",
    "result = agent_executer.invoke({\"input\": \"Find the capital of Pakistan, then find it's current weather condition\"})\n",
    "print(result)"
   ]
  }
 ],
 "metadata": {
  "kernelspec": {
   "display_name": "Python 3",
   "language": "python",
   "name": "python3"
  },
  "language_info": {
   "codemirror_mode": {
    "name": "ipython",
    "version": 3
   },
   "file_extension": ".py",
   "mimetype": "text/x-python",
   "name": "python",
   "nbconvert_exporter": "python",
   "pygments_lexer": "ipython3",
   "version": "3.13.7"
  }
 },
 "nbformat": 4,
 "nbformat_minor": 5
}
