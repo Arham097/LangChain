{
 "cells": [
  {
   "cell_type": "markdown",
   "id": "89849dd0",
   "metadata": {},
   "source": [
    "## Toolkits"
   ]
  },
  {
   "cell_type": "code",
   "execution_count": 1,
   "id": "d599dc1d",
   "metadata": {},
   "outputs": [],
   "source": [
    "from langchain_community.tools import tool\n",
    "\n",
    "# define two tools\n",
    "@tool\n",
    "def add(a:int, b:int) -> int:\n",
    "    \"\"\"Addition of two numbers\"\"\"\n",
    "    return a+b\n",
    "@tool\n",
    "def multiply(a:int, b:int) -> int:\n",
    "    \"\"\"Multiplication of two numbers\"\"\"\n",
    "    return a*b "
   ]
  },
  {
   "cell_type": "code",
   "execution_count": 2,
   "id": "0359f45e",
   "metadata": {},
   "outputs": [],
   "source": [
    "class MathToolkit:\n",
    "    def get_tools(self):\n",
    "        return [add,multiply]"
   ]
  },
  {
   "cell_type": "code",
   "execution_count": 3,
   "id": "ba69acdc",
   "metadata": {},
   "outputs": [
    {
     "name": "stdout",
     "output_type": "stream",
     "text": [
      "add => Addition of two numbers\n",
      "multiply => Multiplication of two numbers\n"
     ]
    }
   ],
   "source": [
    "math_toolkit = MathToolkit()\n",
    "tools = math_toolkit.get_tools()\n",
    "\n",
    "for tool in tools:\n",
    "    print(tool.name, \"=>\", tool.description)"
   ]
  }
 ],
 "metadata": {
  "kernelspec": {
   "display_name": "Python 3",
   "language": "python",
   "name": "python3"
  },
  "language_info": {
   "codemirror_mode": {
    "name": "ipython",
    "version": 3
   },
   "file_extension": ".py",
   "mimetype": "text/x-python",
   "name": "python",
   "nbconvert_exporter": "python",
   "pygments_lexer": "ipython3",
   "version": "3.13.7"
  }
 },
 "nbformat": 4,
 "nbformat_minor": 5
}
