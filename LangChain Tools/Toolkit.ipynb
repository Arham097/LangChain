{
 "cells": [
  {
   "cell_type": "markdown",
   "id": "89849dd0",
   "metadata": {},
   "source": [
    "## Toolkits"
   ]
  },
  {
   "cell_type": "code",
   "execution_count": null,
   "id": "d599dc1d",
   "metadata": {},
   "outputs": [],
   "source": [
    "from langchain_community.tools import tool\n",
    "\n",
    "# define two tools\n",
    "@tool\n",
    "def add(a:int, b:int) -> int:\n",
    "    \"\"\"Addition of two numbers\"\"\"\n",
    "    return a+b\n",
    "@tool\n",
    "def multiply(a:int, b:int) -> int:\n",
    "    \"\"\"Multiplication of two numbers\"\"\"\n",
    "    return a*b "
   ]
  },
  {
   "cell_type": "code",
   "execution_count": null,
   "id": "0359f45e",
   "metadata": {},
   "outputs": [],
   "source": [
    "class MathToolkit:\n",
    "    def get_tools(self):\n",
    "        return [add,multiply]"
   ]
  }
 ],
 "metadata": {
  "kernelspec": {
   "display_name": "Python 3",
   "language": "python",
   "name": "python3"
  },
  "language_info": {
   "name": "python",
   "version": "3.13.7"
  }
 },
 "nbformat": 4,
 "nbformat_minor": 5
}
