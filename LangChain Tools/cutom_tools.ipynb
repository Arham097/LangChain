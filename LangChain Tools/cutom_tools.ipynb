{
 "cells": [
  {
   "cell_type": "markdown",
   "id": "5131088e",
   "metadata": {},
   "source": [
    "## Custom Tools\n"
   ]
  },
  {
   "cell_type": "code",
   "execution_count": null,
   "id": "f0f41134",
   "metadata": {},
   "outputs": [],
   "source": [
    "from langchain_core.tools import tool"
   ]
  },
  {
   "cell_type": "code",
   "execution_count": null,
   "id": "b2142fe2",
   "metadata": {},
   "outputs": [],
   "source": [
    "# Step 1: Create a function\n",
    "\n",
    "def multiply(a,b):\n",
    "    \"\"\"Multiply two numbers\"\"\"\n",
    "    return a*b"
   ]
  },
  {
   "cell_type": "code",
   "execution_count": null,
   "id": "c37bf509",
   "metadata": {},
   "outputs": [],
   "source": [
    "# Step 2: Add Type Hints\n",
    "def multiply (a: int , b: int) -> int:\n",
    "    \"\"\"Multiply two numbers\"\"\"\n",
    "    return a*b"
   ]
  }
 ],
 "metadata": {
  "kernelspec": {
   "display_name": "Python 3",
   "language": "python",
   "name": "python3"
  },
  "language_info": {
   "name": "python",
   "version": "3.13.7"
  }
 },
 "nbformat": 4,
 "nbformat_minor": 5
}
