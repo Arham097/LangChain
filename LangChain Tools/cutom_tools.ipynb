{
 "cells": [
  {
   "cell_type": "markdown",
   "id": "5131088e",
   "metadata": {},
   "source": [
    "## Custom Tools\n"
   ]
  },
  {
   "cell_type": "code",
   "execution_count": 4,
   "id": "f0f41134",
   "metadata": {},
   "outputs": [],
   "source": [
    "from langchain_core.tools import tool"
   ]
  },
  {
   "cell_type": "markdown",
   "id": "b213a545",
   "metadata": {},
   "source": [
    "### 1. Usign @tool Decorator"
   ]
  },
  {
   "cell_type": "code",
   "execution_count": null,
   "id": "b2142fe2",
   "metadata": {},
   "outputs": [],
   "source": [
    "# Step 1: Create a function\n",
    "\n",
    "def multiply(a,b):\n",
    "    \"\"\"Multiply two numbers\"\"\"\n",
    "    return a*b"
   ]
  },
  {
   "cell_type": "code",
   "execution_count": 1,
   "id": "c37bf509",
   "metadata": {},
   "outputs": [],
   "source": [
    "# Step 2: Add Type Hints\n",
    "def multiply (a: int , b: int) -> int:\n",
    "    \"\"\"Multiply two numbers\"\"\"\n",
    "    return a*b"
   ]
  },
  {
   "cell_type": "code",
   "execution_count": 5,
   "id": "87fb02c1",
   "metadata": {},
   "outputs": [],
   "source": [
    "# Step 3: Add tool decorator\n",
    "@tool\n",
    "def multiply (a: int , b: int) -> int:\n",
    "    \"\"\"Multiply two numbers\"\"\"\n",
    "    return a*b"
   ]
  },
  {
   "cell_type": "code",
   "execution_count": 7,
   "id": "674891da",
   "metadata": {},
   "outputs": [
    {
     "name": "stdout",
     "output_type": "stream",
     "text": [
      "15\n"
     ]
    }
   ],
   "source": [
    "result = multiply.invoke({'a':3, 'b':5})\n",
    "print(result)"
   ]
  },
  {
   "cell_type": "code",
   "execution_count": 10,
   "id": "fbb9dc65",
   "metadata": {},
   "outputs": [
    {
     "name": "stdout",
     "output_type": "stream",
     "text": [
      "multiply\n",
      "Multiply two numbers\n",
      "{'a': {'title': 'A', 'type': 'integer'}, 'b': {'title': 'B', 'type': 'integer'}}\n"
     ]
    }
   ],
   "source": [
    "print(multiply.name)\n",
    "print(multiply.description)\n",
    "print(multiply.args)"
   ]
  },
  {
   "cell_type": "code",
   "execution_count": 11,
   "id": "8c837e1b",
   "metadata": {},
   "outputs": [
    {
     "name": "stdout",
     "output_type": "stream",
     "text": [
      "{'description': 'Multiply two numbers', 'properties': {'a': {'title': 'A', 'type': 'integer'}, 'b': {'title': 'B', 'type': 'integer'}}, 'required': ['a', 'b'], 'title': 'multiply', 'type': 'object'}\n"
     ]
    }
   ],
   "source": [
    "# When you send this tool to LLM so LLM does not see tool's description as above but sees in below way\n",
    "print(multiply.args_schema.model_json_schema())"
   ]
  },
  {
   "cell_type": "markdown",
   "id": "3ea4842c",
   "metadata": {},
   "source": [
    "### 2. Using Structured Tool and Pydantic"
   ]
  },
  {
   "cell_type": "code",
   "execution_count": 12,
   "id": "fa38dc5d",
   "metadata": {},
   "outputs": [],
   "source": [
    "from langchain_community.tools import StructuredTool\n",
    "from pydantic import BaseModel, Field"
   ]
  },
  {
   "cell_type": "code",
   "execution_count": 13,
   "id": "defb501b",
   "metadata": {},
   "outputs": [],
   "source": [
    "class MultiplyInput(BaseModel):\n",
    "    a: int = Field(required=True,description=\"First Number to add\")\n",
    "    b: int = Field(required=True,description=\"Second Number to add\")"
   ]
  },
  {
   "cell_type": "code",
   "execution_count": 14,
   "id": "81a60ee8",
   "metadata": {},
   "outputs": [],
   "source": [
    "def multiply_func(a:int, b:int) -> int:\n",
    "    return a*b"
   ]
  },
  {
   "cell_type": "code",
   "execution_count": 15,
   "id": "4852473c",
   "metadata": {},
   "outputs": [],
   "source": [
    "multiply_tool = StructuredTool.from_function(\n",
    "    func=multiply_func,\n",
    "    name=\"multiply\",\n",
    "    description=\"Multiply Two Numbers\",\n",
    "    args_schema=MultiplyInput\n",
    ")"
   ]
  },
  {
   "cell_type": "code",
   "execution_count": 16,
   "id": "2c0f8556",
   "metadata": {},
   "outputs": [
    {
     "name": "stdout",
     "output_type": "stream",
     "text": [
      "9\n",
      "multiply\n",
      "Multiply Two Numbers\n",
      "{'a': {'description': 'First Number to add', 'required': True, 'title': 'A', 'type': 'integer'}, 'b': {'description': 'Second Number to add', 'required': True, 'title': 'B', 'type': 'integer'}}\n"
     ]
    }
   ],
   "source": [
    "result = multiply_tool.invoke({'a':3, 'b':3})\n",
    "\n",
    "print(result)\n",
    "print(multiply_tool.name)\n",
    "print(multiply_tool.description)\n",
    "print(multiply_tool.args)"
   ]
  },
  {
   "cell_type": "markdown",
   "id": "24f41e57",
   "metadata": {},
   "source": [
    "### 3. Using BaseTool"
   ]
  },
  {
   "cell_type": "code",
   "execution_count": 18,
   "id": "7ce13f59",
   "metadata": {},
   "outputs": [],
   "source": [
    "from langchain.tools import BaseTool\n",
    "from pydantic import BaseModel,Field\n",
    "from typing import Type"
   ]
  },
  {
   "cell_type": "code",
   "execution_count": 19,
   "id": "3c9ff8f3",
   "metadata": {},
   "outputs": [],
   "source": [
    "class MultiplyInput(BaseModel):\n",
    "    a: int = Field(required=True,description=\"First Number to add\")\n",
    "    b: int = Field(required=True,description=\"Second Number to add\")"
   ]
  },
  {
   "cell_type": "code",
   "execution_count": 21,
   "id": "3e3d4c03",
   "metadata": {},
   "outputs": [],
   "source": [
    "class MultiplyTool(BaseTool):\n",
    "    name: str = \"multiply\"\n",
    "    description: str = \"Multiply two numbers\"\n",
    "\n",
    "    args_schema: Type[BaseModel] = MultiplyInput\n",
    "\n",
    "    def _run(self, a: int, b: int) -> int:\n",
    "        return a * b"
   ]
  },
  {
   "cell_type": "code",
   "execution_count": 22,
   "id": "f89ab312",
   "metadata": {},
   "outputs": [
    {
     "name": "stdout",
     "output_type": "stream",
     "text": [
      "15\n"
     ]
    }
   ],
   "source": [
    "multiply_tool = MultiplyTool()\n",
    "result = multiply_tool.invoke({'a':3, \"b\": 5})\n",
    "print(result)"
   ]
  }
 ],
 "metadata": {
  "kernelspec": {
   "display_name": "Python 3",
   "language": "python",
   "name": "python3"
  },
  "language_info": {
   "codemirror_mode": {
    "name": "ipython",
    "version": 3
   },
   "file_extension": ".py",
   "mimetype": "text/x-python",
   "name": "python",
   "nbconvert_exporter": "python",
   "pygments_lexer": "ipython3",
   "version": "3.13.7"
  }
 },
 "nbformat": 4,
 "nbformat_minor": 5
}
