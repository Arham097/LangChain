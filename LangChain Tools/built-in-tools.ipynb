{
 "cells": [
  {
   "cell_type": "markdown",
   "id": "f28a298a",
   "metadata": {},
   "source": [
    "## Built-in Tools\n",
    " "
   ]
  },
  {
   "cell_type": "markdown",
   "id": "67e67aff",
   "metadata": {},
   "source": [
    "### 1. DuckDuckGoSearch"
   ]
  },
  {
   "cell_type": "code",
   "execution_count": 10,
   "id": "c5b662a4",
   "metadata": {},
   "outputs": [
    {
     "name": "stderr",
     "output_type": "stream",
     "text": [
      "C:\\Users\\Syed Arham Hasan\\AppData\\Local\\Packages\\PythonSoftwareFoundation.Python.3.13_qbz5n2kfra8p0\\LocalCache\\local-packages\\Python313\\site-packages\\langchain_community\\utilities\\duckduckgo_search.py:63: RuntimeWarning: This package (`duckduckgo_search`) has been renamed to `ddgs`! Use `pip install ddgs` instead.\n",
      "  with DDGS() as ddgs:\n"
     ]
    },
    {
     "name": "stdout",
     "output_type": "stream",
     "text": [
      "Pakistan’s most trusted outlet for the breaking, latest and top news across the country and the world. ٹی وی پروگرام کے دوران کامران شاہد اور سینیٹر افنان اللہ میں ... رجب بٹ کے خلاف 3 انکوائریاں ، انٹرپول کے ذریعے پاکستان لایا جا ... جاپان کی ترقی کے ماڈل کو پنجاب میں لاگو کرنا چاہتی ہوں، مریم ... ستاروں کی روشنی میں آپ کا آج (جمعرات) کا دن کیسا رہے گا ؟ ٹی … Pakistan Latest & Breaking News updates on Politics, Current Affairs, Sports,Technology, Entertainment & Business all at one place.. Read the latest Pakistan news, today's breaking news, top news headlines and stay up to date with live coverage on Politics, Current Affairs, Sports, Entertainment, Technology, Business at … 2 days ago · On August 15, a rare cloudburst struck Buner district in northwestern Pakistan, releasing over 150 mm of rain in just one hour. This unprecedented deluge triggered flash …\n"
     ]
    }
   ],
   "source": [
    "from langchain_community.tools import DuckDuckGoSearchRun\n",
    "\n",
    "search_tool = DuckDuckGoSearchRun()\n",
    "\n",
    "results = search_tool.invoke('top news in Pakistan today')\n",
    "\n",
    "print(results)"
   ]
  },
  {
   "cell_type": "code",
   "execution_count": 11,
   "id": "89047458",
   "metadata": {},
   "outputs": [
    {
     "name": "stdout",
     "output_type": "stream",
     "text": [
      "duckduckgo_search\n",
      "A wrapper around DuckDuckGo Search. Useful for when you need to answer questions about current events. Input should be a search query.\n",
      "{'query': {'description': 'search query to look up', 'title': 'Query', 'type': 'string'}}\n"
     ]
    }
   ],
   "source": [
    "print(search_tool.name)\n",
    "print(search_tool.description)\n",
    "print(search_tool.args)"
   ]
  },
  {
   "cell_type": "markdown",
   "id": "95a652a8",
   "metadata": {},
   "source": [
    "### 2. Shell Tool"
   ]
  },
  {
   "cell_type": "code",
   "execution_count": 13,
   "id": "41830d4b",
   "metadata": {},
   "outputs": [
    {
     "name": "stdout",
     "output_type": "stream",
     "text": [
      "Executing command:\n",
      " whoami\n",
      "desktop-0asqibo\\syed arham hasan\n",
      "\n"
     ]
    },
    {
     "name": "stderr",
     "output_type": "stream",
     "text": [
      "C:\\Users\\Syed Arham Hasan\\AppData\\Local\\Packages\\PythonSoftwareFoundation.Python.3.13_qbz5n2kfra8p0\\LocalCache\\local-packages\\Python313\\site-packages\\langchain_community\\tools\\shell\\tool.py:33: UserWarning: The shell tool has no safeguards by default. Use at your own risk.\n",
      "  warnings.warn(\n"
     ]
    }
   ],
   "source": [
    "from langchain_community.tools import ShellTool\n",
    "shell_tool = ShellTool()\n",
    "result = shell_tool.invoke(\"whoami\")\n",
    "print(result)"
   ]
  }
 ],
 "metadata": {
  "kernelspec": {
   "display_name": "Python 3",
   "language": "python",
   "name": "python3"
  },
  "language_info": {
   "codemirror_mode": {
    "name": "ipython",
    "version": 3
   },
   "file_extension": ".py",
   "mimetype": "text/x-python",
   "name": "python",
   "nbconvert_exporter": "python",
   "pygments_lexer": "ipython3",
   "version": "3.13.7"
  }
 },
 "nbformat": 4,
 "nbformat_minor": 5
}
